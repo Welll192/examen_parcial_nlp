{
  "nbformat": 4,
  "nbformat_minor": 0,
  "metadata": {
    "colab": {
      "provenance": []
    },
    "kernelspec": {
      "name": "python3",
      "display_name": "Python 3"
    },
    "language_info": {
      "name": "python"
    }
  },
  "cells": [
    {
      "cell_type": "markdown",
      "source": [
        "tomando como referencia la clase2, Counts-backoff-suavizado.ipynb, Modelos-lenguaje1.ipynb y Modelos-lenguaje2.ipynb."
      ],
      "metadata": {
        "id": "r7icGM3ZVM8v"
      }
    },
    {
      "cell_type": "markdown",
      "source": [
        "Parte 1"
      ],
      "metadata": {
        "id": "MqiND9dAjPJ_"
      }
    },
    {
      "cell_type": "markdown",
      "source": [
        "A"
      ],
      "metadata": {
        "id": "tmqfo-7TYBN7"
      }
    },
    {
      "cell_type": "code",
      "execution_count": 71,
      "metadata": {
        "id": "xEHtQqR3S1Xk"
      },
      "outputs": [],
      "source": [
        "from collections import Counter\n",
        "\n",
        "# Supongamos que tenemos el siguiente corpus de ejemplo:\n",
        "corpus = \"all models are wrong, a model is wrong, some models are useful\".split()\n",
        "\n",
        "# Calculamos las frecuencias de los bigramas (pares de palabras consecutivas)\n",
        "bigram_counts = Counter(zip(corpus[:-1], corpus[1:]))\n",
        "\n",
        "# Calculamos las frecuencias de las palabras individuales (unigramas)\n",
        "unigram_counts = Counter(corpus)\n",
        "\n",
        "# Definimos una función para calcular la probabilidad condicional de un bigrama\n",
        "def bigram_probability(w1, w2):\n",
        "    return bigram_counts[(w1, w2)] / unigram_counts[w1] if unigram_counts[w1] > 0 else 0\n"
      ]
    },
    {
      "cell_type": "code",
      "source": [
        "bigram_probabilities = {}\n",
        "for bigram in bigram_counts:\n",
        "    w1, w2 = bigram  # desempaqueta el bigrama en palabras individuales.\n",
        "    prob = bigram_probability(w1, w2)  # calcula la probabilidad.\n",
        "    bigram_probabilities[bigram] = prob  # Alamacena en el diccionario.\n",
        "\n",
        "# Muestra las probabilidades de todos los bigramas sin suavizado\n",
        "for bigram, prob in bigram_probabilities.items():\n",
        "    print(f\"Probabilidad de '{bigram[0]} {bigram[1]}': {prob}\")"
      ],
      "metadata": {
        "colab": {
          "base_uri": "https://localhost:8080/"
        },
        "id": "WpxzIFuDTMKx",
        "outputId": "a19af35e-31b8-465a-cd24-3994b5f13000"
      },
      "execution_count": 72,
      "outputs": [
        {
          "output_type": "stream",
          "name": "stdout",
          "text": [
            "Probabilidad de 'all models': 1.0\n",
            "Probabilidad de 'models are': 1.0\n",
            "Probabilidad de 'are wrong,': 0.5\n",
            "Probabilidad de 'wrong, a': 0.5\n",
            "Probabilidad de 'a model': 1.0\n",
            "Probabilidad de 'model is': 1.0\n",
            "Probabilidad de 'is wrong,': 1.0\n",
            "Probabilidad de 'wrong, some': 0.5\n",
            "Probabilidad de 'some models': 1.0\n",
            "Probabilidad de 'are useful': 0.5\n"
          ]
        }
      ]
    },
    {
      "cell_type": "markdown",
      "source": [
        "B"
      ],
      "metadata": {
        "id": "XARua0erYDpG"
      }
    },
    {
      "cell_type": "code",
      "source": [
        "def bigram_probability_addone(w1, w2, vocabulary_size):\n",
        "    # suavizado add-one\n",
        "    numerator = bigram_counts[(w1, w2)] + 1\n",
        "    denominator = unigram_counts[w1] + vocabulary_size\n",
        "    return numerator / denominator"
      ],
      "metadata": {
        "id": "zYbQjVyTTmzJ"
      },
      "execution_count": 73,
      "outputs": []
    },
    {
      "cell_type": "code",
      "source": [
        "# Obtén el tamaño del vocabulario\n",
        "vocabulary_size = len(unigram_counts)\n",
        "\n",
        "# Calcula las probabilidades de todos los bigramas vistos\n",
        "bigram_probabilities_addone = {}\n",
        "for bigram in bigram_counts:\n",
        "    w1, w2 = bigram\n",
        "    prob = bigram_probability_addone(w1, w2, vocabulary_size)\n",
        "    bigram_probabilities_addone[bigram] = prob\n",
        "\n",
        "# Calcula la probabilidad del bigrama no visto \"a models\"\n",
        "prob_a_models = bigram_probability_addone(\"a\", \"models\", vocabulary_size)\n",
        "\n",
        "# Vemos las siguientes probabilidades\n",
        "for bigram, prob in bigram_probabilities_addone.items():\n",
        "    print(f\"Probabilidad (add-one) de '{bigram[0]} {bigram[1]}': {prob}\")\n",
        "\n",
        "print(f\"Probabilidad (add-one) de 'a models': {prob_a_models}\")"
      ],
      "metadata": {
        "colab": {
          "base_uri": "https://localhost:8080/"
        },
        "id": "-Jw-Ks7RU3ac",
        "outputId": "abc6bbac-d793-4daa-979e-b6b933ed3670"
      },
      "execution_count": 74,
      "outputs": [
        {
          "output_type": "stream",
          "name": "stdout",
          "text": [
            "Probabilidad (add-one) de 'all models': 0.2\n",
            "Probabilidad (add-one) de 'models are': 0.2727272727272727\n",
            "Probabilidad (add-one) de 'are wrong,': 0.18181818181818182\n",
            "Probabilidad (add-one) de 'wrong, a': 0.18181818181818182\n",
            "Probabilidad (add-one) de 'a model': 0.2\n",
            "Probabilidad (add-one) de 'model is': 0.2\n",
            "Probabilidad (add-one) de 'is wrong,': 0.2\n",
            "Probabilidad (add-one) de 'wrong, some': 0.18181818181818182\n",
            "Probabilidad (add-one) de 'some models': 0.2\n",
            "Probabilidad (add-one) de 'are useful': 0.18181818181818182\n",
            "Probabilidad (add-one) de 'a models': 0.1\n"
          ]
        }
      ]
    },
    {
      "cell_type": "markdown",
      "source": [
        "C"
      ],
      "metadata": {
        "id": "i5sua5ReX9fW"
      }
    },
    {
      "cell_type": "code",
      "source": [
        "def bigram_probability_addk(w1, w2, vocabulary_size, k):\n",
        "    # Suavizado add-k\n",
        "    numerator = bigram_counts[(w1, w2)] + k\n",
        "    denominator = unigram_counts[w1] + k * vocabulary_size\n",
        "    return numerator / denominator\n",
        "\n",
        "vocabulary_size = len(unigram_counts)\n",
        "\n",
        "# Calcula las probabilidades para k=0.05\n",
        "bigram_probabilities_addk_05 = {}\n",
        "for bigram in bigram_counts:\n",
        "    w1, w2 = bigram\n",
        "    prob = bigram_probability_addk(w1, w2, vocabulary_size, 0.05)\n",
        "    bigram_probabilities_addk_05[bigram] = prob\n",
        "\n",
        "prob_a_models_05 = bigram_probability_addk(\"a\", \"models\", vocabulary_size, 0.05)\n",
        "\n",
        "# Calcula las probabilidades para k=0.15\n",
        "bigram_probabilities_addk_15 = {}\n",
        "for bigram in bigram_counts:\n",
        "    w1, w2 = bigram\n",
        "    prob = bigram_probability_addk(w1, w2, vocabulary_size, 0.15)\n",
        "    bigram_probabilities_addk_15[bigram] = prob\n",
        "\n",
        "prob_a_models_15 = bigram_probability_addk(\"a\", \"models\", vocabulary_size, 0.15)\n",
        "\n",
        "# Vemos las probabilidades para k=0.05\n",
        "print(\"Probabilidades con add-k (k=0.05):\")\n",
        "for bigram, prob in bigram_probabilities_addk_05.items():\n",
        "    print(f\"Probabilidad de '{bigram[0]} {bigram[1]}': {prob}\")\n",
        "print(f\"Probabilidad de 'a models': {prob_a_models_05}\")\n",
        "\n",
        "# Vemos las probabilidades para k=0.15\n",
        "print(\"\\nProbabilidades con add-k (k=0.15):\")\n",
        "for bigram, prob in bigram_probabilities_addk_15.items():\n",
        "    print(f\"Probabilidad de '{bigram[0]} {bigram[1]}': {prob}\")\n",
        "print(f\"Probabilidad de 'a models': {prob_a_models_15}\")"
      ],
      "metadata": {
        "colab": {
          "base_uri": "https://localhost:8080/"
        },
        "id": "EISOYSRQXnCU",
        "outputId": "b92c00d4-6fa3-4f2b-b6d5-44ceacef281f"
      },
      "execution_count": 75,
      "outputs": [
        {
          "output_type": "stream",
          "name": "stdout",
          "text": [
            "Probabilidades con add-k (k=0.05):\n",
            "Probabilidad de 'all models': 0.7241379310344828\n",
            "Probabilidad de 'models are': 0.8367346938775508\n",
            "Probabilidad de 'are wrong,': 0.42857142857142855\n",
            "Probabilidad de 'wrong, a': 0.42857142857142855\n",
            "Probabilidad de 'a model': 0.7241379310344828\n",
            "Probabilidad de 'model is': 0.7241379310344828\n",
            "Probabilidad de 'is wrong,': 0.7241379310344828\n",
            "Probabilidad de 'wrong, some': 0.42857142857142855\n",
            "Probabilidad de 'some models': 0.7241379310344828\n",
            "Probabilidad de 'are useful': 0.42857142857142855\n",
            "Probabilidad de 'a models': 0.034482758620689655\n",
            "\n",
            "Probabilidades con add-k (k=0.15):\n",
            "Probabilidad de 'all models': 0.4893617021276596\n",
            "Probabilidad de 'models are': 0.6417910447761195\n",
            "Probabilidad de 'are wrong,': 0.34328358208955223\n",
            "Probabilidad de 'wrong, a': 0.34328358208955223\n",
            "Probabilidad de 'a model': 0.4893617021276596\n",
            "Probabilidad de 'model is': 0.4893617021276596\n",
            "Probabilidad de 'is wrong,': 0.4893617021276596\n",
            "Probabilidad de 'wrong, some': 0.34328358208955223\n",
            "Probabilidad de 'some models': 0.4893617021276596\n",
            "Probabilidad de 'are useful': 0.34328358208955223\n",
            "Probabilidad de 'a models': 0.06382978723404256\n"
          ]
        }
      ]
    },
    {
      "cell_type": "markdown",
      "source": [
        "D"
      ],
      "metadata": {
        "id": "f2CsuZJbYgn-"
      }
    },
    {
      "cell_type": "code",
      "source": [
        "# Suavizado back-off\n",
        "def bigram_probability_backoff(w1, w2, vocabulary_size, alpha=0.4):\n",
        "    if bigram_counts[(w1, w2)] > 0:\n",
        "        return bigram_probability(w1, w2)  # Usa la probabilidad del bigrama si existe\n",
        "    else:\n",
        "        return alpha * (unigram_counts[w2] / len(corpus))\n",
        "\n",
        "# Suavizado stupid-backoff\n",
        "def bigram_probability_stupid_backoff(w1, w2, vocabulary_size, alpha=0.4):\n",
        "    if bigram_counts[(w1, w2)] > 0:\n",
        "        return bigram_probability(w1, w2)  # Usa la probabilidad del bigrama si existe\n",
        "    else:\n",
        "        return alpha * (unigram_counts[w2] / len(corpus))"
      ],
      "metadata": {
        "id": "n5AAmrp1XtVE"
      },
      "execution_count": 76,
      "outputs": []
    },
    {
      "cell_type": "code",
      "source": [
        "# Calcula las probabilidades con back-off\n",
        "bigram_probabilities_backoff = {}\n",
        "for bigram in bigram_counts:\n",
        "    w1, w2 = bigram\n",
        "    prob = bigram_probability_backoff(w1, w2, vocabulary_size)\n",
        "    bigram_probabilities_backoff[bigram] = prob\n",
        "\n",
        "prob_a_models_backoff = bigram_probability_backoff(\"a\", \"models\", vocabulary_size)\n",
        "\n",
        "# Calcula las probabilidades con stupid backoff\n",
        "bigram_probabilities_stupid_backoff = {}\n",
        "for bigram in bigram_counts:\n",
        "    w1, w2 = bigram\n",
        "    prob = bigram_probability_stupid_backoff(w1, w2, vocabulary_size)\n",
        "    bigram_probabilities_stupid_backoff[bigram] = prob\n",
        "\n",
        "prob_a_models_stupid_backoff = bigram_probability_stupid_backoff(\"a\", \"models\", vocabulary_size)"
      ],
      "metadata": {
        "id": "zG0CEziGYb1U"
      },
      "execution_count": 77,
      "outputs": []
    },
    {
      "cell_type": "code",
      "source": [
        "# Vemos las siguientes probabilidades con back-off\n",
        "print(\"Probabilidades con back-off:\")\n",
        "for bigram, prob in bigram_probabilities_backoff.items():\n",
        "    print(f\"Probabilidad de '{bigram[0]} {bigram[1]}': {prob}\")\n",
        "print(f\"Probabilidad de 'a models': {prob_a_models_backoff}\")\n",
        "\n",
        "# Vemos las siguientes probabilidades con stupid backoff\n",
        "print(\"\\nProbabilidades con stupid backoff:\")\n",
        "for bigram, prob in bigram_probabilities_stupid_backoff.items():\n",
        "    print(f\"Probabilidad de '{bigram[0]} {bigram[1]}': {prob}\")\n",
        "print(f\"Probabilidad de 'a models': {prob_a_models_stupid_backoff}\")"
      ],
      "metadata": {
        "colab": {
          "base_uri": "https://localhost:8080/"
        },
        "id": "5nL3roJ5YeF5",
        "outputId": "3a188df5-9878-413f-99aa-a6801a6afff9"
      },
      "execution_count": 78,
      "outputs": [
        {
          "output_type": "stream",
          "name": "stdout",
          "text": [
            "Probabilidades con back-off:\n",
            "Probabilidad de 'all models': 1.0\n",
            "Probabilidad de 'models are': 1.0\n",
            "Probabilidad de 'are wrong,': 0.5\n",
            "Probabilidad de 'wrong, a': 0.5\n",
            "Probabilidad de 'a model': 1.0\n",
            "Probabilidad de 'model is': 1.0\n",
            "Probabilidad de 'is wrong,': 1.0\n",
            "Probabilidad de 'wrong, some': 0.5\n",
            "Probabilidad de 'some models': 1.0\n",
            "Probabilidad de 'are useful': 0.5\n",
            "Probabilidad de 'a models': 0.06666666666666667\n",
            "\n",
            "Probabilidades con stupid backoff:\n",
            "Probabilidad de 'all models': 1.0\n",
            "Probabilidad de 'models are': 1.0\n",
            "Probabilidad de 'are wrong,': 0.5\n",
            "Probabilidad de 'wrong, a': 0.5\n",
            "Probabilidad de 'a model': 1.0\n",
            "Probabilidad de 'model is': 1.0\n",
            "Probabilidad de 'is wrong,': 1.0\n",
            "Probabilidad de 'wrong, some': 0.5\n",
            "Probabilidad de 'some models': 1.0\n",
            "Probabilidad de 'are useful': 0.5\n",
            "Probabilidad de 'a models': 0.06666666666666667\n"
          ]
        }
      ]
    },
    {
      "cell_type": "markdown",
      "source": [
        "Parte 2"
      ],
      "metadata": {
        "id": "Wli-DYVzjED8"
      }
    },
    {
      "cell_type": "markdown",
      "source": [
        "E"
      ],
      "metadata": {
        "id": "fuT244o6o7EO"
      }
    },
    {
      "cell_type": "code",
      "source": [
        "from collections import Counter\n",
        "\n",
        "corpus = \"all models are wrong, a model is wrong, some models are useful\".split()\n",
        "unigram_counts = Counter(corpus)\n",
        "\n",
        "# Calculo de Nr para todos los unigramas\n",
        "Nr_values = Counter(unigram_counts.values())\n",
        "\n",
        "# Vemos los resultados\n",
        "for r, Nr in Nr_values.items():\n",
        "    print(f\"r = {r}, Nr = {Nr}\")"
      ],
      "metadata": {
        "colab": {
          "base_uri": "https://localhost:8080/"
        },
        "id": "okr-dvAWYh5p",
        "outputId": "314a266d-cf6f-40a6-f204-421325b52682"
      },
      "execution_count": 79,
      "outputs": [
        {
          "output_type": "stream",
          "name": "stdout",
          "text": [
            "r = 1, Nr = 6\n",
            "r = 2, Nr = 3\n"
          ]
        }
      ]
    },
    {
      "cell_type": "code",
      "source": [
        "# Calcula el r* para todos los unigramas\n",
        "r_star_values = {}\n",
        "for r, Nr in Nr_values.items():\n",
        "    Nr_plus_1 = Nr_values.get(r + 1, 0)  # Se obtiene Nr+1, por defecto 0 si no es encontrado\n",
        "    r_star = (r + 1) * Nr_plus_1 / Nr if Nr else r  # Calcula el valor de r*\n",
        "    r_star_values[r] = r_star\n",
        "\n",
        "# Vemos los resultados\n",
        "for r, r_star in r_star_values.items():\n",
        "    print(f\"r = {r}, r* = {r_star}\")"
      ],
      "metadata": {
        "colab": {
          "base_uri": "https://localhost:8080/"
        },
        "id": "yY7QxnRKkALO",
        "outputId": "96ad6c64-006d-4f77-a09b-3e56f22ad6a7"
      },
      "execution_count": 80,
      "outputs": [
        {
          "output_type": "stream",
          "name": "stdout",
          "text": [
            "r = 1, r* = 1.0\n",
            "r = 2, r* = 0.0\n"
          ]
        }
      ]
    },
    {
      "cell_type": "code",
      "source": [
        "# Calcula la probabilidad para unigramas desconocidos\n",
        "N1 = Nr_values.get(1, 0)  # Se obtiene N1, por defecto 0 si no es encontrado\n",
        "N = sum(unigram_counts.values())  # Numero total de unigramas\n",
        "P_UNK = N1 / N\n",
        "\n",
        "print(f\"P(<UNK>) = {P_UNK}\")"
      ],
      "metadata": {
        "colab": {
          "base_uri": "https://localhost:8080/"
        },
        "id": "614pdU5DkCvr",
        "outputId": "612b3c0e-7cec-44e0-8422-1f532e3af33c"
      },
      "execution_count": 81,
      "outputs": [
        {
          "output_type": "stream",
          "name": "stdout",
          "text": [
            "P(<UNK>) = 0.5\n"
          ]
        }
      ]
    },
    {
      "cell_type": "markdown",
      "source": [
        "F"
      ],
      "metadata": {
        "id": "AAfdumxvpDxS"
      }
    },
    {
      "cell_type": "code",
      "source": [
        "from collections import Counter\n",
        "\n",
        "corpus = \"all models are wrong, a model is wrong, some models are useful\".split()\n",
        "unigram_counts = Counter(corpus)\n",
        "Nr_values = Counter(unigram_counts.values())\n",
        "\n",
        "# Calcula los valores de C1 y C2\n",
        "C1 = (1 + 1) * Nr_values.get(2, 0) / Nr_values.get(1, 1) # Nr_values.get(1, 1) para evitar la division por 0\n",
        "C2 = (2 + 1) * Nr_values.get(3, 0) / Nr_values.get(2, 1) # Nr_values.get(2, 1) para evitar la division por 0\n",
        "\n",
        "print(f\"C1 = {C1}\")\n",
        "print(f\"C2 = {C2}\")"
      ],
      "metadata": {
        "colab": {
          "base_uri": "https://localhost:8080/"
        },
        "id": "yLtPXlEakEmN",
        "outputId": "b20cd18e-2b63-4d12-bc9b-28129800d85d"
      },
      "execution_count": 82,
      "outputs": [
        {
          "output_type": "stream",
          "name": "stdout",
          "text": [
            "C1 = 1.0\n",
            "C2 = 0.0\n"
          ]
        }
      ]
    },
    {
      "cell_type": "code",
      "source": [
        "N = sum(unigram_counts.values())  # Numero total de unigramas\n",
        "\n",
        "# Calbula la prbabilidad para los unigramas con r<3\n",
        "unigram_probabilities = {}\n",
        "for unigram, r in unigram_counts.items():\n",
        "    if r < 3:\n",
        "        Cr = C1 if r == 1 else C2 if r == 2 else r  # se obtiene el apropiado valor de Cr\n",
        "        probability = Cr / N\n",
        "        unigram_probabilities[unigram] = probability\n",
        "\n",
        "# Muestro las probabilidades\n",
        "for unigram, probability in unigram_probabilities.items():\n",
        "    print(f\"P({unigram}) = {probability}\")"
      ],
      "metadata": {
        "colab": {
          "base_uri": "https://localhost:8080/"
        },
        "id": "HjbGvbbUlXNJ",
        "outputId": "38d85999-fc78-445c-fb2e-c21cef196887"
      },
      "execution_count": 83,
      "outputs": [
        {
          "output_type": "stream",
          "name": "stdout",
          "text": [
            "P(all) = 0.08333333333333333\n",
            "P(models) = 0.0\n",
            "P(are) = 0.0\n",
            "P(wrong,) = 0.0\n",
            "P(a) = 0.08333333333333333\n",
            "P(model) = 0.08333333333333333\n",
            "P(is) = 0.08333333333333333\n",
            "P(some) = 0.08333333333333333\n",
            "P(useful) = 0.08333333333333333\n"
          ]
        }
      ]
    },
    {
      "cell_type": "markdown",
      "source": [
        "G"
      ],
      "metadata": {
        "id": "sK4ysToBo2x6"
      }
    },
    {
      "cell_type": "code",
      "source": [
        "# Se obtiene el máximo valor de r\n",
        "max_r = max(unigram_counts.values())\n",
        "\n",
        "# Calcula la probabilidad de unigramas con r = 3.\n",
        "unigram_probabilities_max_r = {}\n",
        "for unigram, count in unigram_counts.items():\n",
        "    if count == max_r:  # Filtro de unigramas con máximo valor de r.\n",
        "        probability = count / sum(unigram_counts.values())\n",
        "        unigram_probabilities_max_r[unigram] = probability\n",
        "\n",
        "# Muestra los resultados.\n",
        "for unigram, probability in unigram_probabilities_max_r.items():\n",
        "    print(f\"P({unigram} | #w = {max_r}) = {probability}\")"
      ],
      "metadata": {
        "colab": {
          "base_uri": "https://localhost:8080/"
        },
        "id": "DqURlWsdlYAh",
        "outputId": "f343ba16-cf32-4042-aacd-56321deb4346"
      },
      "execution_count": 84,
      "outputs": [
        {
          "output_type": "stream",
          "name": "stdout",
          "text": [
            "P(models | #w = 2) = 0.16666666666666666\n",
            "P(are | #w = 2) = 0.16666666666666666\n",
            "P(wrong, | #w = 2) = 0.16666666666666666\n"
          ]
        }
      ]
    },
    {
      "cell_type": "markdown",
      "source": [
        "H"
      ],
      "metadata": {
        "id": "PA1LglnMpGiC"
      }
    },
    {
      "cell_type": "code",
      "source": [
        "probabilidad_f = 0.0;\n",
        "for unigram, probability in unigram_probabilities.items():\n",
        "  probabilidad_f+=probability\n",
        "\n",
        "print(f\"para (f): {probabilidad_f}\")\n",
        "\n",
        "probabilidad_g = 0.0;\n",
        "for unigram, probability in unigram_probabilities_max_r.items():\n",
        "  probabilidad_g+=probability\n",
        "\n",
        "print(f\"para (g): {probabilidad_g}\")"
      ],
      "metadata": {
        "colab": {
          "base_uri": "https://localhost:8080/"
        },
        "id": "yXEV7iQ6qymE",
        "outputId": "6dcfebea-3f90-4cab-e7d7-ef8de2805c2f"
      },
      "execution_count": 85,
      "outputs": [
        {
          "output_type": "stream",
          "name": "stdout",
          "text": [
            "para (f): 0.49999999999999994\n",
            "para (g): 0.5\n"
          ]
        }
      ]
    },
    {
      "cell_type": "markdown",
      "source": [
        "efectivamente la suma de probabilidades de todas las unigramas dadas en (f) y (g) no es 1."
      ],
      "metadata": {
        "id": "t7undMG1rdhU"
      }
    },
    {
      "cell_type": "markdown",
      "source": [
        "Normalización de las probabilidades:"
      ],
      "metadata": {
        "id": "b_kCq2OLrkb4"
      }
    },
    {
      "cell_type": "code",
      "source": [
        "# Normalizar probabilidades de (f)\n",
        "normalization_factor_f = 1 / sum(unigram_probabilities.values())\n",
        "normalized_probabilities_f = {unigram: prob * normalization_factor_f for unigram, prob in unigram_probabilities.items()}\n",
        "\n",
        "# Normaliza probabilidades de (g)\n",
        "normalization_factor_g = 1 / sum(unigram_probabilities_max_r.values())\n",
        "normalized_probabilities_g = {unigram: prob * normalization_factor_g for unigram, prob in unigram_probabilities_max_r.items()}\n",
        "\n",
        "# Vemos la normalización de probabilidades\n",
        "print(\"Normalized probabilities (f):\", normalized_probabilities_f)\n",
        "print(\"Normalized probabilities (g):\", normalized_probabilities_g)"
      ],
      "metadata": {
        "colab": {
          "base_uri": "https://localhost:8080/"
        },
        "id": "5z3qt4MMpcsW",
        "outputId": "01af542b-2d28-4cd0-ff38-27ac9d57d014"
      },
      "execution_count": 86,
      "outputs": [
        {
          "output_type": "stream",
          "name": "stdout",
          "text": [
            "Normalized probabilities (f): {'all': 0.16666666666666669, 'models': 0.0, 'are': 0.0, 'wrong,': 0.0, 'a': 0.16666666666666669, 'model': 0.16666666666666669, 'is': 0.16666666666666669, 'some': 0.16666666666666669, 'useful': 0.16666666666666669}\n",
            "Normalized probabilities (g): {'models': 0.3333333333333333, 'are': 0.3333333333333333, 'wrong,': 0.3333333333333333}\n"
          ]
        }
      ]
    },
    {
      "cell_type": "markdown",
      "source": [
        "I"
      ],
      "metadata": {
        "id": "FJQO9wEBtSNM"
      }
    },
    {
      "cell_type": "code",
      "source": [
        "corpus = \"all models are wrong, a model is wrong, some models are useful, a model is wrong wrong wrong wrong\".split()\n",
        "unigram_counts = Counter(corpus)\n",
        "Nr_values = Counter(unigram_counts.values())\n",
        "print(unigram_counts)"
      ],
      "metadata": {
        "colab": {
          "base_uri": "https://localhost:8080/"
        },
        "id": "21Az3vMKphKK",
        "outputId": "35f1fa4f-2983-4be2-d57b-b9e6269462b8"
      },
      "execution_count": 87,
      "outputs": [
        {
          "output_type": "stream",
          "name": "stdout",
          "text": [
            "Counter({'wrong': 4, 'models': 2, 'are': 2, 'wrong,': 2, 'a': 2, 'model': 2, 'is': 2, 'all': 1, 'some': 1, 'useful,': 1})\n"
          ]
        }
      ]
    },
    {
      "cell_type": "code",
      "source": [
        "Nr_predicted = (r - 1) * Nr-1 / r"
      ],
      "metadata": {
        "id": "A1m3aZ5-tXXC"
      },
      "execution_count": 88,
      "outputs": []
    },
    {
      "cell_type": "code",
      "source": [
        "r_star_values = {}\n",
        "for r, Nr in Nr_values.items():\n",
        "  if Nr > 0:\n",
        "    Nr_plus_1 = Nr_values.get(r + 1, 0)  # Se obtiene Nr+1, por defecto 0 si no es encontrado\n",
        "    r_star = (r + 1) * Nr_plus_1 / Nr if Nr else r  # Calcula el valor de r*\n",
        "    r_star_values[r] = r_star\n",
        "  else: # Para r=5 tiene frequncia 0 y no puede ser calculada la fórmula\n",
        "    r_star_values[r] = (r - 1) * Nr_values[r-1] / r\n",
        "\n",
        "# Vemos los resultados\n",
        "for r, r_star in r_star_values.items():\n",
        "    print(f\"r = {r}, r* = {r_star}\")"
      ],
      "metadata": {
        "colab": {
          "base_uri": "https://localhost:8080/"
        },
        "id": "k-TzfqbOtgs8",
        "outputId": "daac8d5a-2604-45a7-dac5-9a9035a9dc16"
      },
      "execution_count": 89,
      "outputs": [
        {
          "output_type": "stream",
          "name": "stdout",
          "text": [
            "r = 1, r* = 4.0\n",
            "r = 2, r* = 0.0\n",
            "r = 4, r* = 0.0\n"
          ]
        }
      ]
    },
    {
      "cell_type": "code",
      "source": [
        "# Calcula la probabilidad para unigramas desconocidos\n",
        "N1 = Nr_values.get(1, 0)  # Se obtiene N1, por defecto 0 si no es encontrado\n",
        "N = sum(unigram_counts.values())  # Numero total de unigramas\n",
        "P_UNK = N1 / N\n",
        "\n",
        "print(f\"P(<UNK>) = {P_UNK}\")"
      ],
      "metadata": {
        "colab": {
          "base_uri": "https://localhost:8080/"
        },
        "id": "WuxV8qAxtic_",
        "outputId": "4efda8c8-12a0-41d7-f643-0823cea3fcd0"
      },
      "execution_count": 90,
      "outputs": [
        {
          "output_type": "stream",
          "name": "stdout",
          "text": [
            "P(<UNK>) = 0.15789473684210525\n"
          ]
        }
      ]
    },
    {
      "cell_type": "code",
      "source": [
        "N = sum(unigram_counts.values())  # Numero total de unigramas\n",
        "\n",
        "# Calbula la prbabilidad para los unigramas con r<3\n",
        "unigram_probabilities = {}\n",
        "for unigram, r in unigram_counts.items():\n",
        "  probability = r_star_values[r] / N\n",
        "  unigram_probabilities[unigram] = probability\n",
        "\n",
        "# Muestro las probabilidades\n",
        "for unigram, probability in unigram_probabilities.items():\n",
        "  print(f\"P({unigram}) = {probability}\")"
      ],
      "metadata": {
        "colab": {
          "base_uri": "https://localhost:8080/"
        },
        "id": "5-q5NT4dtlnY",
        "outputId": "828d8628-d2d0-457b-c50f-ca47f72f7a55"
      },
      "execution_count": 91,
      "outputs": [
        {
          "output_type": "stream",
          "name": "stdout",
          "text": [
            "P(all) = 0.21052631578947367\n",
            "P(models) = 0.0\n",
            "P(are) = 0.0\n",
            "P(wrong,) = 0.0\n",
            "P(a) = 0.0\n",
            "P(model) = 0.0\n",
            "P(is) = 0.0\n",
            "P(some) = 0.21052631578947367\n",
            "P(useful,) = 0.21052631578947367\n",
            "P(wrong) = 0.0\n"
          ]
        }
      ]
    }
  ]
}